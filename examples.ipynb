{
 "cells": [
  {
   "cell_type": "markdown",
   "id": "8314adb2",
   "metadata": {},
   "source": [
    "# Setup Environment\n",
    "The following examples are all based on OpenAI APIs/models in Azure."
   ]
  },
  {
   "cell_type": "code",
   "execution_count": 1,
   "id": "34886d56",
   "metadata": {},
   "outputs": [
    {
     "name": "stdout",
     "output_type": "stream",
     "text": [
      "Defaulting to user installation because normal site-packages is not writeable\n",
      "Requirement already satisfied: openai in /Users/mbj0593/Library/Python/3.9/lib/python/site-packages (0.27.6)\n",
      "Requirement already satisfied: tqdm in /Users/mbj0593/Library/Python/3.9/lib/python/site-packages (from openai) (4.65.0)\n",
      "Requirement already satisfied: aiohttp in /Users/mbj0593/Library/Python/3.9/lib/python/site-packages (from openai) (3.8.4)\n",
      "Requirement already satisfied: requests>=2.20 in /Users/mbj0593/Library/Python/3.9/lib/python/site-packages (from openai) (2.30.0)\n",
      "Requirement already satisfied: idna<4,>=2.5 in /Users/mbj0593/Library/Python/3.9/lib/python/site-packages (from requests>=2.20->openai) (3.4)\n",
      "Requirement already satisfied: charset-normalizer<4,>=2 in /Users/mbj0593/Library/Python/3.9/lib/python/site-packages (from requests>=2.20->openai) (3.1.0)\n",
      "Requirement already satisfied: urllib3<3,>=1.21.1 in /Users/mbj0593/Library/Python/3.9/lib/python/site-packages (from requests>=2.20->openai) (1.26.6)\n",
      "Requirement already satisfied: certifi>=2017.4.17 in /Users/mbj0593/Library/Python/3.9/lib/python/site-packages (from requests>=2.20->openai) (2023.5.7)\n",
      "Requirement already satisfied: attrs>=17.3.0 in /Users/mbj0593/Library/Python/3.9/lib/python/site-packages (from aiohttp->openai) (23.1.0)\n",
      "Requirement already satisfied: multidict<7.0,>=4.5 in /Users/mbj0593/Library/Python/3.9/lib/python/site-packages (from aiohttp->openai) (6.0.4)\n",
      "Requirement already satisfied: aiosignal>=1.1.2 in /Users/mbj0593/Library/Python/3.9/lib/python/site-packages (from aiohttp->openai) (1.3.1)\n",
      "Requirement already satisfied: yarl<2.0,>=1.0 in /Users/mbj0593/Library/Python/3.9/lib/python/site-packages (from aiohttp->openai) (1.9.2)\n",
      "Requirement already satisfied: async-timeout<5.0,>=4.0.0a3 in /Users/mbj0593/Library/Python/3.9/lib/python/site-packages (from aiohttp->openai) (4.0.2)\n",
      "Requirement already satisfied: frozenlist>=1.1.1 in /Users/mbj0593/Library/Python/3.9/lib/python/site-packages (from aiohttp->openai) (1.3.3)\n",
      "\u001b[33mWARNING: You are using pip version 21.2.4; however, version 23.1.2 is available.\n",
      "You should consider upgrading via the '/Library/Developer/CommandLineTools/usr/bin/python3 -m pip install --upgrade pip' command.\u001b[0m\n",
      "Note: you may need to restart the kernel to use updated packages.\n"
     ]
    }
   ],
   "source": [
    "pip install openai"
   ]
  },
  {
   "cell_type": "code",
   "execution_count": 2,
   "id": "31f03761",
   "metadata": {},
   "outputs": [
    {
     "name": "stdout",
     "output_type": "stream",
     "text": [
      "Defaulting to user installation because normal site-packages is not writeable\n",
      "Requirement already satisfied: langchain in /Users/mbj0593/Library/Python/3.9/lib/python/site-packages (0.0.167)\n",
      "Requirement already satisfied: pydantic<2,>=1 in /Users/mbj0593/Library/Python/3.9/lib/python/site-packages (from langchain) (1.10.7)\n",
      "Requirement already satisfied: async-timeout<5.0.0,>=4.0.0 in /Users/mbj0593/Library/Python/3.9/lib/python/site-packages (from langchain) (4.0.2)\n",
      "Requirement already satisfied: tenacity<9.0.0,>=8.1.0 in /Users/mbj0593/Library/Python/3.9/lib/python/site-packages (from langchain) (8.2.2)\n",
      "Requirement already satisfied: numexpr<3.0.0,>=2.8.4 in /Users/mbj0593/Library/Python/3.9/lib/python/site-packages (from langchain) (2.8.4)\n",
      "Requirement already satisfied: openapi-schema-pydantic<2.0,>=1.2 in /Users/mbj0593/Library/Python/3.9/lib/python/site-packages (from langchain) (1.2.4)\n",
      "Requirement already satisfied: requests<3,>=2 in /Users/mbj0593/Library/Python/3.9/lib/python/site-packages (from langchain) (2.30.0)\n",
      "Requirement already satisfied: tqdm>=4.48.0 in /Users/mbj0593/Library/Python/3.9/lib/python/site-packages (from langchain) (4.65.0)\n",
      "Requirement already satisfied: SQLAlchemy<3,>=1.4 in /Users/mbj0593/Library/Python/3.9/lib/python/site-packages (from langchain) (2.0.12)\n",
      "Requirement already satisfied: dataclasses-json<0.6.0,>=0.5.7 in /Users/mbj0593/Library/Python/3.9/lib/python/site-packages (from langchain) (0.5.7)\n",
      "Requirement already satisfied: numpy<2,>=1 in /Users/mbj0593/Library/Python/3.9/lib/python/site-packages (from langchain) (1.23.5)\n",
      "Requirement already satisfied: aiohttp<4.0.0,>=3.8.3 in /Users/mbj0593/Library/Python/3.9/lib/python/site-packages (from langchain) (3.8.4)\n",
      "Requirement already satisfied: PyYAML>=5.4.1 in /Users/mbj0593/Library/Python/3.9/lib/python/site-packages (from langchain) (6.0)\n",
      "Requirement already satisfied: frozenlist>=1.1.1 in /Users/mbj0593/Library/Python/3.9/lib/python/site-packages (from aiohttp<4.0.0,>=3.8.3->langchain) (1.3.3)\n",
      "Requirement already satisfied: attrs>=17.3.0 in /Users/mbj0593/Library/Python/3.9/lib/python/site-packages (from aiohttp<4.0.0,>=3.8.3->langchain) (23.1.0)\n",
      "Requirement already satisfied: multidict<7.0,>=4.5 in /Users/mbj0593/Library/Python/3.9/lib/python/site-packages (from aiohttp<4.0.0,>=3.8.3->langchain) (6.0.4)\n",
      "Requirement already satisfied: yarl<2.0,>=1.0 in /Users/mbj0593/Library/Python/3.9/lib/python/site-packages (from aiohttp<4.0.0,>=3.8.3->langchain) (1.9.2)\n",
      "Requirement already satisfied: charset-normalizer<4.0,>=2.0 in /Users/mbj0593/Library/Python/3.9/lib/python/site-packages (from aiohttp<4.0.0,>=3.8.3->langchain) (3.1.0)\n",
      "Requirement already satisfied: aiosignal>=1.1.2 in /Users/mbj0593/Library/Python/3.9/lib/python/site-packages (from aiohttp<4.0.0,>=3.8.3->langchain) (1.3.1)\n",
      "Requirement already satisfied: marshmallow-enum<2.0.0,>=1.5.1 in /Users/mbj0593/Library/Python/3.9/lib/python/site-packages (from dataclasses-json<0.6.0,>=0.5.7->langchain) (1.5.1)\n",
      "Requirement already satisfied: typing-inspect>=0.4.0 in /Users/mbj0593/Library/Python/3.9/lib/python/site-packages (from dataclasses-json<0.6.0,>=0.5.7->langchain) (0.8.0)\n",
      "Requirement already satisfied: marshmallow<4.0.0,>=3.3.0 in /Users/mbj0593/Library/Python/3.9/lib/python/site-packages (from dataclasses-json<0.6.0,>=0.5.7->langchain) (3.19.0)\n",
      "Requirement already satisfied: packaging>=17.0 in /Users/mbj0593/Library/Python/3.9/lib/python/site-packages (from marshmallow<4.0.0,>=3.3.0->dataclasses-json<0.6.0,>=0.5.7->langchain) (23.1)\n",
      "Requirement already satisfied: typing-extensions>=4.2.0 in /Users/mbj0593/Library/Python/3.9/lib/python/site-packages (from pydantic<2,>=1->langchain) (4.5.0)\n",
      "Requirement already satisfied: idna<4,>=2.5 in /Users/mbj0593/Library/Python/3.9/lib/python/site-packages (from requests<3,>=2->langchain) (3.4)\n",
      "Requirement already satisfied: certifi>=2017.4.17 in /Users/mbj0593/Library/Python/3.9/lib/python/site-packages (from requests<3,>=2->langchain) (2023.5.7)\n",
      "Requirement already satisfied: urllib3<3,>=1.21.1 in /Users/mbj0593/Library/Python/3.9/lib/python/site-packages (from requests<3,>=2->langchain) (1.26.6)\n",
      "Requirement already satisfied: mypy-extensions>=0.3.0 in /Users/mbj0593/Library/Python/3.9/lib/python/site-packages (from typing-inspect>=0.4.0->dataclasses-json<0.6.0,>=0.5.7->langchain) (1.0.0)\n",
      "\u001b[33mWARNING: You are using pip version 21.2.4; however, version 23.1.2 is available.\n",
      "You should consider upgrading via the '/Library/Developer/CommandLineTools/usr/bin/python3 -m pip install --upgrade pip' command.\u001b[0m\n",
      "Note: you may need to restart the kernel to use updated packages.\n"
     ]
    }
   ],
   "source": [
    "pip install langchain"
   ]
  },
  {
   "cell_type": "code",
   "execution_count": null,
   "id": "26220655",
   "metadata": {},
   "outputs": [],
   "source": [
    "%env OPENAI_API_TYPE=azure\n",
    "# The API version you want to use.\n",
    "%env OPENAI_API_VERSION=<API Version>\n",
    "# The base URL for your Azure OpenAI resource.  You can find this in the Azure portal under your Azure OpenAI resource.\n",
    "%env OPENAI_API_BASE=<Your endpoint>\n",
    "# The API key for your Azure OpenAI resource.  You can find this in the Azure portal under your Azure OpenAI resource.\n",
    "%env OPENAI_API_KEY=<Your key>"
   ]
  },
  {
   "cell_type": "markdown",
   "id": "ca2362a8",
   "metadata": {},
   "source": [
    "# Educate GPT on utilizing tools"
   ]
  },
  {
   "cell_type": "code",
   "execution_count": 8,
   "id": "65690a5f",
   "metadata": {},
   "outputs": [
    {
     "name": "stdout",
     "output_type": "stream",
     "text": [
      "\n",
      "\n",
      "\u001b[1m> Entering new AgentExecutor chain...\u001b[0m\n",
      "\u001b[32;1m\u001b[1;3mI need to find out the current weather in Beijing to determine appropriate clothing.\n",
      "Action: Get current info\n",
      "Action Input: current weather in Beijing\u001b[0mres= 26°C, Mostly sunny\n",
      "\n",
      "Observation: \u001b[36;1m\u001b[1;3m26°C, Mostly sunny\u001b[0m\n",
      "Thought:\u001b[32;1m\u001b[1;3mI now know the weather in Beijing today.\n",
      "Final Answer: It is appropriate to wear light, comfortable clothing such as a t-shirt and shorts or pants, along with comfortable shoes, and perhaps a light jacket or cardigan for cooler indoor environments, in Beijing today.\u001b[0m\n",
      "\n",
      "\u001b[1m> Finished chain.\u001b[0m\n",
      "It is appropriate to wear light, comfortable clothing such as a t-shirt and shorts or pants, along with comfortable shoes, and perhaps a light jacket or cardigan for cooler indoor environments, in Beijing today.\n"
     ]
    }
   ],
   "source": [
    "from langchain.agents import initialize_agent, Tool\n",
    "from langchain.chat_models import AzureChatOpenAI\n",
    "from langchain.chains import LLMRequestsChain\n",
    "from langchain.chains import LLMChain\n",
    "from langchain.prompts import PromptTemplate\n",
    "\n",
    "llm = AzureChatOpenAI(deployment_name=\"GPT4\") #deployment_name should be your deployment name for GPT model\n",
    "\n",
    "def query_google(question):\n",
    "    template = \"\"\"Between >>> and <<< are the raw search result text from google.\n",
    "    Extract the answer to the question '{query}' or say \"not found\" if the information is not contained.\n",
    "    Use the format\n",
    "    Extracted:<answer or \"not found\">\n",
    "    >>> {requests_result} <<<\n",
    "    Extracted:\"\"\"\n",
    "\n",
    "    PROMPT = PromptTemplate(\n",
    "        input_variables=[\"query\", \"requests_result\"],\n",
    "        template=template,\n",
    "    )\n",
    "\n",
    "    inputs = {\n",
    "        \"query\": question,\n",
    "        \"url\": \"https://www.google.com/search?q=\" + question.replace(\" \", \"+\")\n",
    "    }\n",
    "    requests_chain = LLMRequestsChain(llm_chain=LLMChain(llm=llm, prompt=PROMPT), output_key=\"query_info\")\n",
    "    res = requests_chain.run(inputs)\n",
    "    print(\"res=\", res)\n",
    "    return res\n",
    "\n",
    "tools = [\n",
    "    Tool(\n",
    "        name=\"Get current info\", func=query_google,\n",
    "        description=\"\"\"invoke it for when you need to answer questions about current info. \n",
    "        And the input should be a search query.\"\"\")\n",
    "]\n",
    "\n",
    "agent = initialize_agent(tools, llm, agent=\"zero-shot-react-description\", max_iterations=3, verbose=True)\n",
    "print(agent.run(\"What is appropriate to wear in Beijing today?\"))\n"
   ]
  },
  {
   "cell_type": "code",
   "execution_count": 9,
   "id": "92129189",
   "metadata": {},
   "outputs": [
    {
     "name": "stderr",
     "output_type": "stream",
     "text": [
      "Created a chunk of size 131, which is longer than the specified 100\n",
      "Created a chunk of size 165, which is longer than the specified 100\n",
      "Created a chunk of size 155, which is longer than the specified 100\n",
      "Created a chunk of size 158, which is longer than the specified 100\n",
      "Created a chunk of size 197, which is longer than the specified 100\n",
      "Created a chunk of size 143, which is longer than the specified 100\n",
      "Created a chunk of size 103, which is longer than the specified 100\n",
      "Created a chunk of size 164, which is longer than the specified 100\n",
      "Created a chunk of size 172, which is longer than the specified 100\n",
      "Created a chunk of size 102, which is longer than the specified 100\n",
      "Created a chunk of size 175, which is longer than the specified 100\n",
      "Using embedded DuckDB without persistence: data will be transient\n"
     ]
    }
   ],
   "source": [
    "# Embedded the content and store them into VectorDB\n",
    "from langchain.document_loaders import UnstructuredMarkdownLoader\n",
    "from langchain.text_splitter import CharacterTextSplitter\n",
    "from langchain.embeddings.openai import OpenAIEmbeddings\n",
    "from langchain.llms import AzureOpenAI\n",
    "from langchain.vectorstores import Chroma\n",
    "from langchain.document_loaders import DirectoryLoader\n",
    "\n",
    "\n",
    "loader = UnstructuredMarkdownLoader(\"maxlang.md\")\n",
    "documents = loader.load()\n",
    "\n",
    "text_splitter = CharacterTextSplitter(chunk_size=100, chunk_overlap=0)\n",
    "\n",
    "split_docs = text_splitter.split_documents(documents)\n",
    "\n",
    "embeddings = OpenAIEmbeddings(deployment=\"embedding\",chunk_size=1) #deployment is the name of your embedding model\n",
    "\n",
    "docsearch = Chroma.from_documents(split_docs, embeddings)\n"
   ]
  },
  {
   "cell_type": "code",
   "execution_count": 12,
   "id": "614e0711",
   "metadata": {},
   "outputs": [
    {
     "name": "stderr",
     "output_type": "stream",
     "text": [
      "WARNING! engine is not default parameter.\n",
      "                    engine was transferred to model_kwargs.\n",
      "                    Please confirm that engine is what you intended.\n"
     ]
    },
    {
     "name": "stdout",
     "output_type": "stream",
     "text": [
      " The syntax for extracting the attribute value from a JSON string depends on the type of the value. If the value is a primitive object, you can use jpath(\"skills.coding.[1]\", json). If the value is a collection or a hashtable, you can use jpath(\"skills\",json)[\"coding\"][2].\n"
     ]
    }
   ],
   "source": [
    "# Query the vectors \n",
    "from langchain.chains import RetrievalQA\n",
    "from langchain.llms import AzureOpenAI\n",
    "\n",
    "llm = AzureOpenAI( temperature=0, engine=\"txt\")\n",
    "qa = RetrievalQA.from_chain_type(llm=llm, chain_type=\"map_reduce\", retriever=docsearch.as_retriever(),return_source_documents=True)\n",
    "\n",
    "# result = qa.run(\"how to extract the attribute value from json string\")\n",
    "result = qa({\"query\": \"how to extract the attribute value from json string\"})\n",
    "print(result[\"result\"])"
   ]
  },
  {
   "cell_type": "code",
   "execution_count": null,
   "id": "0e2e9b58",
   "metadata": {},
   "outputs": [],
   "source": []
  }
 ],
 "metadata": {
  "kernelspec": {
   "display_name": "Python 3 (ipykernel)",
   "language": "python",
   "name": "python3"
  },
  "language_info": {
   "codemirror_mode": {
    "name": "ipython",
    "version": 3
   },
   "file_extension": ".py",
   "mimetype": "text/x-python",
   "name": "python",
   "nbconvert_exporter": "python",
   "pygments_lexer": "ipython3",
   "version": "3.9.6"
  }
 },
 "nbformat": 4,
 "nbformat_minor": 5
}
